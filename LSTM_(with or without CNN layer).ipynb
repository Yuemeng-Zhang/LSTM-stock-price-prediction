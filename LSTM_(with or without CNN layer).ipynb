{
 "cells": [
  {
   "cell_type": "code",
   "execution_count": 2,
   "metadata": {},
   "outputs": [],
   "source": [
    "from Downloader import downloader\n",
    "from Stocker import stocker"
   ]
  },
  {
   "cell_type": "code",
   "execution_count": 3,
   "metadata": {},
   "outputs": [],
   "source": [
    "import pandas as pd\n",
    "import numpy as np\n",
    "\n",
    "\n",
    "import matplotlib.pyplot as plt\n",
    "%matplotlib inline\n",
    "\n",
    "from keras.models import Sequential\n",
    "from keras.layers import Dense, LSTM, Dropout, GRU, Bidirectional, Flatten, Conv1D\n",
    "\n",
    "from tensorflow import keras\n",
    "import tensorflow as tf"
   ]
  },
  {
   "cell_type": "code",
   "execution_count": 4,
   "metadata": {},
   "outputs": [
    {
     "name": "stdout",
     "output_type": "stream",
     "text": [
      "bad stock:  ^GSPC\n",
      "bad stock:  AAPL\n"
     ]
    }
   ],
   "source": [
    "down_a = downloader(\"data\")\n",
    "down_a.pull_stock(['AAPL','^GSPC'],True,start_date = \"2009-05-08\", end_date=\"2020-05-08\",is_save=True)\n",
    "def adjust_data(stock):\n",
    "    '''we define this function to specify the columns we will use in the stocker class'''\n",
    "    filepath = 'data//'+ stock+\"_price.csv\"\n",
    "    data = pd.read_csv(filepath)\n",
    "    data = data[['date','adjclose','volume']]\n",
    "    data.columns=['Date',stock,'Volume']\n",
    "    data['Date'] = pd.to_datetime(data['Date'])\n",
    "    return(data)"
   ]
  },
  {
   "cell_type": "code",
   "execution_count": 7,
   "metadata": {},
   "outputs": [
    {
     "data": {
      "text/html": [
       "<div>\n",
       "<style scoped>\n",
       "    .dataframe tbody tr th:only-of-type {\n",
       "        vertical-align: middle;\n",
       "    }\n",
       "\n",
       "    .dataframe tbody tr th {\n",
       "        vertical-align: top;\n",
       "    }\n",
       "\n",
       "    .dataframe thead th {\n",
       "        text-align: right;\n",
       "    }\n",
       "</style>\n",
       "<table border=\"1\" class=\"dataframe\">\n",
       "  <thead>\n",
       "    <tr style=\"text-align: right;\">\n",
       "      <th></th>\n",
       "      <th>Date</th>\n",
       "      <th>AAPL</th>\n",
       "      <th>Volume</th>\n",
       "    </tr>\n",
       "  </thead>\n",
       "  <tbody>\n",
       "    <tr>\n",
       "      <th>0</th>\n",
       "      <td>2009-05-08</td>\n",
       "      <td>15.977063</td>\n",
       "      <td>116991000.0</td>\n",
       "    </tr>\n",
       "    <tr>\n",
       "      <th>1</th>\n",
       "      <td>2009-05-11</td>\n",
       "      <td>16.024052</td>\n",
       "      <td>101164700.0</td>\n",
       "    </tr>\n",
       "    <tr>\n",
       "      <th>2</th>\n",
       "      <td>2009-05-12</td>\n",
       "      <td>15.387154</td>\n",
       "      <td>152370400.0</td>\n",
       "    </tr>\n",
       "    <tr>\n",
       "      <th>3</th>\n",
       "      <td>2009-05-13</td>\n",
       "      <td>14.777458</td>\n",
       "      <td>148992900.0</td>\n",
       "    </tr>\n",
       "    <tr>\n",
       "      <th>4</th>\n",
       "      <td>2009-05-14</td>\n",
       "      <td>15.205353</td>\n",
       "      <td>111956600.0</td>\n",
       "    </tr>\n",
       "  </tbody>\n",
       "</table>\n",
       "</div>"
      ],
      "text/plain": [
       "        Date       AAPL       Volume\n",
       "0 2009-05-08  15.977063  116991000.0\n",
       "1 2009-05-11  16.024052  101164700.0\n",
       "2 2009-05-12  15.387154  152370400.0\n",
       "3 2009-05-13  14.777458  148992900.0\n",
       "4 2009-05-14  15.205353  111956600.0"
      ]
     },
     "execution_count": 7,
     "metadata": {},
     "output_type": "execute_result"
    }
   ],
   "source": [
    "data = adjust_data('AAPL')\n",
    "data.head()"
   ]
  },
  {
   "cell_type": "code",
   "execution_count": 8,
   "metadata": {},
   "outputs": [],
   "source": [
    "class My_LSTM:\n",
    "    def __init__(self,data,learning_rate=1e-3,rho=0.88,wind_size=32,split_ratio=0.9,\n",
    "                 n_layers=4,dropout=0.2,units=50,epochs=20,batch_size=32,seed=9001):\n",
    "        self.data=data\n",
    "        self.seed=seed\n",
    "        self.wind_size=wind_size\n",
    "        self.split_ratio=split_ratio\n",
    "        self.n_layers=n_layers\n",
    "        self.dropout=dropout\n",
    "        self.units=units\n",
    "        self.epochs=epochs\n",
    "        self.batch_size=batch_size\n",
    "        self.lr=learning_rate\n",
    "        self.rho=rho\n",
    "    \n",
    "    def data_generate(self,random=True):\n",
    "        s=stocker(seed=self.seed)\n",
    "        s.import_data(self.data) #it takes a dataframe as import\n",
    "        (X_train,y_train),(X_test,y_test)=s.data_split_window(split_ratio=self.split_ratio,wind_size=self.wind_size,random=random,plot=False)\n",
    "        train_index=X_train.index\n",
    "        test_index=X_test.index  \n",
    "        (X_train_scaled, y_train_scaled),(X_test_scaled,y_test_scaled)=s.scale(X_train,y_train,X_test,y_test)\n",
    "        X_train_scaled=np.array(X_train_scaled)\n",
    "        X_test_scaled=np.array(X_test_scaled)\n",
    "        y_train=np.array(y_train)\n",
    "        y_test=np.array(y_test)       \n",
    "        return X_train_scaled, X_test_scaled, y_train, y_test, train_index, test_index\n",
    "\n",
    "    \n",
    "    def lstm_model(self): \n",
    "        data_processed=self.data_generate()\n",
    "        X_train=data_processed[0]\n",
    "        y_train=data_processed[2]\n",
    "        X_train = np.reshape(X_train, (X_train.shape[0],X_train.shape[1],1))\n",
    "        regressor = Sequential()\n",
    "#         regressor.add(tf.keras.layers.Conv1D(filters=32, kernel_size=5, \n",
    "#                       strides=1, padding=\"causal\",\n",
    "#                       activation=\"relu\",\n",
    "#                       input_shape=[None, 1]))\n",
    "\n",
    "#still couldn't figure out CNN\n",
    "           \n",
    "        regressor.add(LSTM(units=self.units, return_sequences=True, input_shape=(X_train.shape[1],1)))\n",
    "        regressor.add(Dropout(self.dropout))\n",
    "\n",
    "        for i in range(1,self.n_layers):\n",
    "            regressor.add(LSTM(units=self.units, return_sequences=True))\n",
    "            regressor.add(Dropout(self.dropout))\n",
    "\n",
    "        regressor.add(Flatten())\n",
    "        regressor.add(Dense(units=1))\n",
    "        regressor.compile(optimizer=keras.optimizers.RMSprop(learning_rate = self.lr, rho = self.rho),\n",
    "                          loss='mse',metrics = ['mse'])\n",
    "        regressor.fit(X_train,y_train,epochs=self.epochs,batch_size=self.batch_size)\n",
    "        return regressor, data_processed  \n",
    "    \n",
    "    def mse(self, predicted, true):\n",
    "        return np.mean((predicted-true)**2)\n",
    "    \n",
    "    def fit(self, plot=True):\n",
    "        model, data_processed=self.lstm_model()\n",
    "        x_test=data_processed[1]\n",
    "        y_test=data_processed[3]\n",
    "        test_index=data_processed[5]\n",
    "        x_test = np.reshape(x_test, (x_test.shape[0],x_test.shape[1],1))\n",
    "        predicted = model.predict(x_test)\n",
    "        x_test=np.squeeze(x_test,axis=2)\n",
    "        mean_squared_error=self.mse(predicted,y_test)\n",
    "\n",
    "        if plot:\n",
    "            plt.figure(figsize=(16,4))\n",
    "            plt.scatter(test_index, y_test, color='red',label='real')\n",
    "            plt.scatter(test_index, predicted, color='blue',label='Predicted')\n",
    "            plt.legend()\n",
    "            plt.title('stock price')\n",
    "            plt.show()\n",
    "            \n",
    "        return mean_squared_error, model"
   ]
  },
  {
   "cell_type": "code",
   "execution_count": 9,
   "metadata": {},
   "outputs": [
    {
     "name": "stdout",
     "output_type": "stream",
     "text": [
      "import stock data from AAPL\n",
      "Epoch 1/20\n",
      "77/77 [==============================] - 2s 28ms/step - loss: 7119.9263 - mse: 7119.9263\n",
      "Epoch 2/20\n",
      "77/77 [==============================] - 2s 27ms/step - loss: 1561.2917 - mse: 1561.2917\n",
      "Epoch 3/20\n",
      "77/77 [==============================] - 2s 26ms/step - loss: 378.6275 - mse: 378.6275\n",
      "Epoch 4/20\n",
      "77/77 [==============================] - 2s 27ms/step - loss: 218.6806 - mse: 218.6806\n",
      "Epoch 5/20\n",
      "77/77 [==============================] - 2s 27ms/step - loss: 146.6074 - mse: 146.6074\n",
      "Epoch 6/20\n",
      "77/77 [==============================] - 2s 27ms/step - loss: 117.7095 - mse: 117.7095\n",
      "Epoch 7/20\n",
      "77/77 [==============================] - 2s 27ms/step - loss: 112.7111 - mse: 112.7111\n",
      "Epoch 8/20\n",
      "77/77 [==============================] - 2s 26ms/step - loss: 101.9189 - mse: 101.9189\n",
      "Epoch 9/20\n",
      "77/77 [==============================] - 2s 27ms/step - loss: 100.8109 - mse: 100.8109\n",
      "Epoch 10/20\n",
      "77/77 [==============================] - 2s 26ms/step - loss: 82.2453 - mse: 82.2453\n",
      "Epoch 11/20\n",
      "77/77 [==============================] - 2s 26ms/step - loss: 76.8058 - mse: 76.8058\n",
      "Epoch 12/20\n",
      "77/77 [==============================] - 2s 26ms/step - loss: 76.8451 - mse: 76.8451\n",
      "Epoch 13/20\n",
      "77/77 [==============================] - 2s 29ms/step - loss: 71.4142 - mse: 71.4142\n",
      "Epoch 14/20\n",
      "77/77 [==============================] - 2s 31ms/step - loss: 73.2157 - mse: 73.2157\n",
      "Epoch 15/20\n",
      "77/77 [==============================] - 2s 30ms/step - loss: 72.9281 - mse: 72.9281\n",
      "Epoch 16/20\n",
      "77/77 [==============================] - 2s 29ms/step - loss: 66.8022 - mse: 66.8022\n",
      "Epoch 17/20\n",
      "77/77 [==============================] - 2s 29ms/step - loss: 65.1508 - mse: 65.1508\n",
      "Epoch 18/20\n",
      "77/77 [==============================] - 2s 30ms/step - loss: 61.8788 - mse: 61.8788\n",
      "Epoch 19/20\n",
      "77/77 [==============================] - 2s 30ms/step - loss: 62.9444 - mse: 62.9444\n",
      "Epoch 20/20\n",
      "77/77 [==============================] - 2s 30ms/step - loss: 58.8993 - mse: 58.8993\n"
     ]
    },
    {
     "data": {
      "image/png": "[encoded data removed]",
      "text/plain": [
       "<Figure size 1152x288 with 1 Axes>"
      ]
     },
     "metadata": {
      "needs_background": "light"
     },
     "output_type": "display_data"
    }
   ],
   "source": [
    "L1=My_LSTM(data)\n",
    "MSE=L1.fit()[0]"
   ]
  },
  {
   "cell_type": "code",
   "execution_count": 10,
   "metadata": {},
   "outputs": [
    {
     "data": {
      "text/plain": [
       "53.116132362598165"
      ]
     },
     "execution_count": 10,
     "metadata": {},
     "output_type": "execute_result"
    }
   ],
   "source": [
    "MSE"
   ]
  },
  {
   "cell_type": "markdown",
   "metadata": {},
   "source": [
    "#### Build a CNN layer on top of the first LSTM layer "
   ]
  },
  {
   "cell_type": "code",
   "execution_count": 11,
   "metadata": {},
   "outputs": [],
   "source": [
    "class My_CNN_LSTM:\n",
    "    def __init__(self,data,learning_rate=1e-3,rho=0.88,wind_size=32,split_ratio=0.9,\n",
    "                 n_layers=1,dropout=0.2,units=50,epochs=20,batch_size=32,seed=9001):\n",
    "        self.data=data\n",
    "        self.seed=seed\n",
    "        self.wind_size=wind_size\n",
    "        self.split_ratio=split_ratio\n",
    "        self.n_layers=n_layers\n",
    "        self.dropout=dropout\n",
    "        self.units=units\n",
    "        self.epochs=epochs\n",
    "        self.batch_size=batch_size\n",
    "        self.lr=learning_rate\n",
    "        self.rho=rho\n",
    "    \n",
    "    def data_generate(self,random=True):\n",
    "        s=stocker(seed=self.seed)\n",
    "        s.import_data(self.data) #it takes a dataframe as import\n",
    "        (X_train,y_train),(X_test,y_test)=s.data_split_window(split_ratio=self.split_ratio,wind_size=self.wind_size,random=random,plot=False)\n",
    "        train_index=X_train.index\n",
    "        test_index=X_test.index  \n",
    "        (X_train_scaled, y_train_scaled),(X_test_scaled,y_test_scaled)=s.scale(X_train,y_train,X_test,y_test)\n",
    "        X_train_scaled=np.array(X_train_scaled)\n",
    "        X_test_scaled=np.array(X_test_scaled)\n",
    "        y_train=np.array(y_train)\n",
    "        y_test=np.array(y_test)       \n",
    "        return X_train_scaled, X_test_scaled, y_train, y_test, train_index, test_index\n",
    "\n",
    "    \n",
    "    def lstm_model(self): \n",
    "        data_processed=self.data_generate()\n",
    "        X_train=data_processed[0]\n",
    "        y_train=data_processed[2]\n",
    "        X_train = np.reshape(X_train, (X_train.shape[0],X_train.shape[1],1))\n",
    "        regressor = Sequential()\n",
    "        \n",
    "        regressor.add(Conv1D(filters=32, kernel_size=5, \n",
    "                      strides=1, padding=\"causal\",\n",
    "                      activation=\"relu\",\n",
    "                      input_shape=[X_train.shape[1], 1]))\n",
    "        \n",
    "        regressor.add(Bidirectional(LSTM(units=self.units, return_sequences=True)))\n",
    "        \n",
    "        regressor.add(Dropout(self.dropout))\n",
    "           \n",
    "#         regressor.add(LSTM(units=self.units, return_sequences=True))\n",
    "#         regressor.add(Dropout(self.dropout))\n",
    "\n",
    "#         for i in range(1,self.n_layers):\n",
    "#             regressor.add(LSTM(units=self.units, return_sequences=True))\n",
    "#             regressor.add(Dropout(self.dropout))\n",
    "\n",
    "        regressor.add(Flatten())\n",
    "        regressor.add(Dense(units=1))\n",
    "        regressor.compile(optimizer=keras.optimizers.RMSprop(learning_rate = self.lr, rho = self.rho),\n",
    "                          loss='mse',metrics = ['mse'])\n",
    "        regressor.fit(X_train,y_train,epochs=self.epochs,batch_size=self.batch_size)\n",
    "        return regressor, data_processed   \n",
    "    \n",
    "    def mse(self, predicted, true):\n",
    "        return np.mean((predicted-true)**2)\n",
    "    \n",
    "    def fit(self, plot=True):\n",
    "        model, data_processed=self.lstm_model()\n",
    "        x_test=data_processed[1]\n",
    "        y_test=data_processed[3]\n",
    "        test_index=data_processed[5]\n",
    "        x_test = np.reshape(x_test, (x_test.shape[0],x_test.shape[1],1))\n",
    "        predicted = model.predict(x_test)\n",
    "        x_test=np.squeeze(x_test,axis=2)\n",
    "        mean_squared_error=self.mse(predicted,y_test)\n",
    "\n",
    "        if plot:\n",
    "            plt.figure(figsize=(16,4))\n",
    "            plt.scatter(test_index, y_test, color='red',label='real')\n",
    "            plt.scatter(test_index, predicted, color='blue',label='Predicted')\n",
    "            plt.legend()\n",
    "            plt.title('stock price')\n",
    "            plt.show()\n",
    "            \n",
    "        return mean_squared_error, model"
   ]
  },
  {
   "cell_type": "code",
   "execution_count": 12,
   "metadata": {},
   "outputs": [
    {
     "name": "stdout",
     "output_type": "stream",
     "text": [
      "import stock data from AAPL\n",
      "Epoch 1/20\n",
      "77/77 [==============================] - 1s 11ms/step - loss: 4411.0610 - mse: 4411.0610\n",
      "Epoch 2/20\n",
      "77/77 [==============================] - 1s 10ms/step - loss: 244.1993 - mse: 244.1993\n",
      "Epoch 3/20\n",
      "77/77 [==============================] - 1s 10ms/step - loss: 128.3596 - mse: 128.3596\n",
      "Epoch 4/20\n",
      "77/77 [==============================] - 1s 10ms/step - loss: 111.4522 - mse: 111.4522\n",
      "Epoch 5/20\n",
      "77/77 [==============================] - 1s 10ms/step - loss: 99.0524 - mse: 99.0524\n",
      "Epoch 6/20\n",
      "77/77 [==============================] - 1s 10ms/step - loss: 100.7565 - mse: 100.7565\n",
      "Epoch 7/20\n",
      "77/77 [==============================] - 1s 10ms/step - loss: 88.7639 - mse: 88.7639\n",
      "Epoch 8/20\n",
      "77/77 [==============================] - 1s 10ms/step - loss: 81.1636 - mse: 81.1636\n",
      "Epoch 9/20\n",
      "77/77 [==============================] - 1s 10ms/step - loss: 83.4193 - mse: 83.4193\n",
      "Epoch 10/20\n",
      "77/77 [==============================] - 1s 10ms/step - loss: 75.9869 - mse: 75.9869\n",
      "Epoch 11/20\n",
      "77/77 [==============================] - 1s 10ms/step - loss: 75.8092 - mse: 75.8092\n",
      "Epoch 12/20\n",
      "77/77 [==============================] - 1s 10ms/step - loss: 75.6862 - mse: 75.6862\n",
      "Epoch 13/20\n",
      "77/77 [==============================] - 1s 10ms/step - loss: 69.1216 - mse: 69.1216\n",
      "Epoch 14/20\n",
      "77/77 [==============================] - 1s 10ms/step - loss: 66.8994 - mse: 66.8994\n",
      "Epoch 15/20\n",
      "77/77 [==============================] - 1s 10ms/step - loss: 64.8723 - mse: 64.8723\n",
      "Epoch 16/20\n",
      "77/77 [==============================] - 1s 10ms/step - loss: 60.4182 - mse: 60.4182\n",
      "Epoch 17/20\n",
      "77/77 [==============================] - 1s 10ms/step - loss: 59.3009 - mse: 59.3009\n",
      "Epoch 18/20\n",
      "77/77 [==============================] - 1s 11ms/step - loss: 60.2644 - mse: 60.2644\n",
      "Epoch 19/20\n",
      "77/77 [==============================] - 1s 10ms/step - loss: 59.3496 - mse: 59.3496\n",
      "Epoch 20/20\n",
      "77/77 [==============================] - 1s 10ms/step - loss: 54.9823 - mse: 54.9823\n"
     ]
    },
    {
     "data": {
      "image/png": "[encoded data removed]",
      "text/plain": [
       "<Figure size 1152x288 with 1 Axes>"
      ]
     },
     "metadata": {
      "needs_background": "light"
     },
     "output_type": "display_data"
    }
   ],
   "source": [
    "L1=My_CNN_LSTM(data)\n",
    "MSE_CNN=L1.fit()[0]"
   ]
  },
  {
   "cell_type": "code",
   "execution_count": 13,
   "metadata": {},
   "outputs": [
    {
     "data": {
      "text/plain": [
       "46.25670132163986"
      ]
     },
     "execution_count": 13,
     "metadata": {},
     "output_type": "execute_result"
    }
   ],
   "source": [
    "MSE_CNN"
   ]
  },
  {
   "cell_type": "code",
   "execution_count": null,
   "metadata": {},
   "outputs": [],
   "source": []
  }
 ],
 "metadata": {
  "kernelspec": {
   "display_name": "Python 3",
   "language": "python",
   "name": "python3"
  },
  "language_info": {
   "codemirror_mode": {
    "name": "ipython",
    "version": 3
   },
   "file_extension": ".py",
   "mimetype": "text/x-python",
   "name": "python",
   "nbconvert_exporter": "python",
   "pygments_lexer": "ipython3",
   "version": "3.7.6"
  }
 },
 "nbformat": 4,
 "nbformat_minor": 2
}
